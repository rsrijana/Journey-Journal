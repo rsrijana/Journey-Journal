{
  "nbformat": 4,
  "nbformat_minor": 0,
  "metadata": {
    "colab": {
      "provenance": [],
      "authorship_tag": "ABX9TyNfvDGpcPtX5rTGbg8ncsYk",
      "include_colab_link": true
    },
    "kernelspec": {
      "name": "python3",
      "display_name": "Python 3"
    },
    "language_info": {
      "name": "python"
    }
  },
  "cells": [
    {
      "cell_type": "markdown",
      "metadata": {
        "id": "view-in-github",
        "colab_type": "text"
      },
      "source": [
        "<a href=\"https://colab.research.google.com/github/rsrijana/Journey-Journal/blob/master/pandas.ipynb\" target=\"_parent\"><img src=\"https://colab.research.google.com/assets/colab-badge.svg\" alt=\"Open In Colab\"/></a>"
      ]
    },
    {
      "cell_type": "code",
      "execution_count": null,
      "metadata": {
        "colab": {
          "base_uri": "https://localhost:8080/"
        },
        "id": "FJWqAfHFIwOi",
        "outputId": "10a0b45b-036c-4ffe-80df-402f120ecc20"
      },
      "outputs": [
        {
          "output_type": "stream",
          "name": "stdout",
          "text": [
            "      Name  Age\n",
            "0    Alice   25\n",
            "1      Bob   30\n",
            "2  Charlie   35\n"
          ]
        }
      ],
      "source": [
        "#selecting colums in from excel sheet\n",
        "import pandas as pd\n",
        "data = {\n",
        "    'Name': ['Alice', 'Bob', 'Charlie'],\n",
        "    'Age': [25, 30, 35],\n",
        "    'City': ['New York', 'Los Angeles', 'Chicago']\n",
        "}\n",
        "df = pd.DataFrame(data)\n",
        "columns = df[['Name','Age']]\n",
        "print(columns)"
      ]
    },
    {
      "cell_type": "code",
      "source": [
        "#Adding and Modifying Columns\n",
        "import pandas as pd\n",
        "data = {\n",
        "    'A': [1, 2, 3],\n",
        "    'B': [4, 5, 6]\n",
        "}\n",
        "df = pd.DataFrame(data)\n",
        "df ['C'] = df['B']*2\n",
        "print(df)"
      ],
      "metadata": {
        "colab": {
          "base_uri": "https://localhost:8080/"
        },
        "id": "c6304OGGOphE",
        "outputId": "f9b122e8-2099-4e9b-f09f-29e9dee3cb8e"
      },
      "execution_count": null,
      "outputs": [
        {
          "output_type": "stream",
          "name": "stdout",
          "text": [
            "   A  B   C\n",
            "0  1  4   8\n",
            "1  2  5  10\n",
            "2  3  6  12\n"
          ]
        }
      ]
    },
    {
      "cell_type": "code",
      "source": [
        "#Adding and Modifying Columns\n",
        "import pandas as pd\n",
        "import numpy as np\n",
        "data = {\n",
        "    'A': [1, 2, 3],\n",
        "    'B': [4, 5, 6]\n",
        "}\n",
        "df = pd.DataFrame(data)\n",
        "df['A'] = df['A'] + 3\n",
        "print(df)"
      ],
      "metadata": {
        "id": "0kCup7uwihAp",
        "colab": {
          "base_uri": "https://localhost:8080/"
        },
        "outputId": "e2664ce2-d961-4b64-c4ac-e014f0c08a90"
      },
      "execution_count": null,
      "outputs": [
        {
          "output_type": "stream",
          "name": "stdout",
          "text": [
            "   A  B\n",
            "0  4  4\n",
            "1  5  5\n",
            "2  6  6\n"
          ]
        }
      ]
    },
    {
      "cell_type": "code",
      "source": [
        "# Dealing with Missing Data\n",
        "# Creating a sample DataFrame with NaN values\n",
        "import pandas as pd\n",
        "import numpy as np\n",
        "\n",
        "data = {\n",
        "    'A': [1, 2, np.nan, 4],\n",
        "    'B': [5, np.nan, 7, 8],\n",
        "    'C': [9, 10, 11, np.nan]\n",
        "}\n",
        "df = pd.DataFrame(data)\n",
        "df_cleaned = df.dropna() # Drop rows with any missing values\n",
        "print(df_cleaned)"
      ],
      "metadata": {
        "colab": {
          "base_uri": "https://localhost:8080/"
        },
        "id": "rD5FerDjPvuZ",
        "outputId": "d143e50c-6243-441b-c21b-5f5799d2918a"
      },
      "execution_count": null,
      "outputs": [
        {
          "output_type": "stream",
          "name": "stdout",
          "text": [
            "     A    B    C\n",
            "0  1.0  5.0  9.0\n"
          ]
        }
      ]
    },
    {
      "cell_type": "code",
      "source": [
        "# Fill missing values with a specific value\n",
        "import pandas as pd\n",
        "import numpy as np\n",
        "\n",
        "data = {\n",
        "    'A': [1, 2, np.nan, 4],\n",
        "    'B': [5, np.nan, 7, 8],\n",
        "    'C': [9, 10, 11, np.nan]\n",
        "}\n",
        "df = pd.DataFrame(data)\n",
        "df_filled = df.fillna(2.5)\n",
        "print(df_filled)"
      ],
      "metadata": {
        "colab": {
          "base_uri": "https://localhost:8080/"
        },
        "id": "RJ0QxFojUp-i",
        "outputId": "e5d8fbb9-4bf7-41ee-e55f-21339de74bd5"
      },
      "execution_count": null,
      "outputs": [
        {
          "output_type": "stream",
          "name": "stdout",
          "text": [
            "     A    B     C\n",
            "0  1.0  5.0   9.0\n",
            "1  2.0  2.5  10.0\n",
            "2  2.5  7.0  11.0\n",
            "3  4.0  8.0   2.5\n"
          ]
        }
      ]
    },
    {
      "cell_type": "code",
      "source": [
        "#Grouping and Aggregating Data\n",
        "import pandas as pd\n",
        "import numpy as np\n",
        "\n",
        "data = {\n",
        "    'A': [1, 2, np.nan, 4],\n",
        "    'B': [5, np.nan, 7, 8],\n",
        "    'C': [9, 10, 11, np.nan]\n",
        "}\n",
        "\n",
        "df = pd.DataFrame(data)\n",
        "df['A'] = df['A'].fillna(df['A'].mean())\n",
        "df['B'] = df['B'].fillna(df['B'].mean())\n",
        "df['C'] = df['C'].fillna(df['C'].mean())\n",
        "print(df)"
      ],
      "metadata": {
        "colab": {
          "base_uri": "https://localhost:8080/"
        },
        "id": "vwm_mg8oijXH",
        "outputId": "5ffae566-3662-465c-9449-70e39da8df7e"
      },
      "execution_count": null,
      "outputs": [
        {
          "output_type": "stream",
          "name": "stdout",
          "text": [
            "          A         B     C\n",
            "0  1.000000  5.000000   9.0\n",
            "1  2.000000  6.666667  10.0\n",
            "2  2.333333  7.000000  11.0\n",
            "3  4.000000  8.000000  10.0\n"
          ]
        }
      ]
    },
    {
      "cell_type": "code",
      "source": [
        "#Grouping and Aggregating Data\n",
        "import pandas as pd\n",
        "import numpy as np\n",
        "\n",
        "data = {\n",
        "    'category': ['A', 'A', 'B', 'B', 'C', 'C'],\n",
        "    'value1': [10, 15, 10, 20, 10, 30],\n",
        "    'value2': [1, 2, 3, 4, 5, 6]\n",
        "}\n",
        "df = pd.DataFrame(data)\n",
        "groupby = df.groupby('category').agg({'value1':'mean', 'value2':'sum'})\n",
        "print(groupby)\n"
      ],
      "metadata": {
        "id": "nQcw_snZ2k7I",
        "colab": {
          "base_uri": "https://localhost:8080/"
        },
        "outputId": "f5938eb1-a6e9-4ee8-c54e-0901e471473b"
      },
      "execution_count": null,
      "outputs": [
        {
          "output_type": "stream",
          "name": "stdout",
          "text": [
            "          value1  value2\n",
            "category                \n",
            "A           12.5       3\n",
            "B           15.0       7\n",
            "C           20.0      11\n"
          ]
        }
      ]
    },
    {
      "cell_type": "code",
      "source": [
        "# Merging dataframes\n",
        "import pandas as pd\n",
        "import numpy as np\n",
        "\n",
        "data1 = {\n",
        "    'common_column': [1, 2, 3],\n",
        "    'value1': ['A', 'B', 'C']\n",
        "}\n",
        "df1 = pd.DataFrame(data1)\n",
        "\n",
        "data2 = {\n",
        "    'common_column': [2, 3, 4],\n",
        "    'value2': ['D', 'E', 'F']\n",
        "}\n",
        "df2 = pd.DataFrame(data2)\n",
        "merge_df = pd.merge(df1,df2, on ='common_column' )\n",
        "print(merge_df)"
      ],
      "metadata": {
        "colab": {
          "base_uri": "https://localhost:8080/"
        },
        "id": "0zvvW2EQ_OCb",
        "outputId": "42cf9ed2-137b-4f0a-ce42-12e11fff4c6e"
      },
      "execution_count": null,
      "outputs": [
        {
          "output_type": "stream",
          "name": "stdout",
          "text": [
            "   common_column value1 value2\n",
            "0              2      B      D\n",
            "1              3      C      E\n"
          ]
        }
      ]
    },
    {
      "cell_type": "code",
      "source": [
        "# merging dataframes with joins\n",
        "import pandas as pd\n",
        "data1 = {\n",
        "    'common_column': [1, 2, 3],\n",
        "    'value1': ['A', 'B', 'C']\n",
        "}\n",
        "df1 = pd.DataFrame(data1)\n",
        "data2 = {\n",
        "    'common_column': [2, 3, 4],\n",
        "    'value1': ['D', 'E', 'F']\n",
        "}\n",
        "df2 = pd.DataFrame(data2)\n",
        "merge_data = pd.merge(df1, df2, on='common_column', how='right')\n",
        "print(merge_data)"
      ],
      "metadata": {
        "colab": {
          "base_uri": "https://localhost:8080/"
        },
        "id": "qhHok8Y5sP80",
        "outputId": "3295264a-789b-4c0a-e988-6fe20fb90e1c"
      },
      "execution_count": null,
      "outputs": [
        {
          "output_type": "stream",
          "name": "stdout",
          "text": [
            "   common_column value1_x value1_y\n",
            "0              2        B        D\n",
            "1              3        C        E\n",
            "2              4      NaN        F\n"
          ]
        }
      ]
    },
    {
      "cell_type": "code",
      "source": [
        "# Sorting\n",
        "import pandas as pd\n",
        "data = {\n",
        "     'name': [ 'Charlie','Alice','David' ,'Bob'],\n",
        "    'age': [25, 30, 35, 40],\n",
        "    'score': [85, 92, 88, 90]\n",
        "}\n",
        "df = pd.DataFrame(data)\n",
        "sort_data1 = df.sort_values(by=[ 'name','age'], ascending=[])\n",
        "print(sort_data1)\n"
      ],
      "metadata": {
        "colab": {
          "base_uri": "https://localhost:8080/"
        },
        "id": "QacNAfIvuF79",
        "outputId": "ba3a70a4-7182-480e-8a2f-c0ad4b7483ed"
      },
      "execution_count": null,
      "outputs": [
        {
          "output_type": "stream",
          "name": "stdout",
          "text": [
            "      name  age  score\n",
            "1    Alice   30     92\n",
            "3      Bob   40     90\n",
            "0  Charlie   25     85\n",
            "2    David   35     88\n"
          ]
        }
      ]
    },
    {
      "cell_type": "code",
      "source": [
        "# creating array\n",
        "import numpy as np\n",
        "\n",
        "array = np.array([1,2,3,4,5])\n",
        "print(array)"
      ],
      "metadata": {
        "colab": {
          "base_uri": "https://localhost:8080/"
        },
        "id": "Wv7v8GAovIi3",
        "outputId": "4037357b-b892-423f-dc9b-67b23b24145c"
      },
      "execution_count": 2,
      "outputs": [
        {
          "output_type": "stream",
          "name": "stdout",
          "text": [
            "[1 2 3 4 5]\n"
          ]
        }
      ]
    },
    {
      "cell_type": "code",
      "source": [
        "import numpy as np\n",
        "zeros = np.zeros(5)\n",
        "print(zeros)\n",
        "ones = np.ones(5)\n",
        "print(ones)\n",
        "range_array = np.arange(0, 10, 2)\n",
        "print(range_array)"
      ],
      "metadata": {
        "colab": {
          "base_uri": "https://localhost:8080/"
        },
        "id": "03Z9kZK_wHlR",
        "outputId": "319ad56c-3372-4d66-bce6-02209fdd9f34"
      },
      "execution_count": 9,
      "outputs": [
        {
          "output_type": "stream",
          "name": "stdout",
          "text": [
            "[0. 0. 0. 0. 0.]\n",
            "[1. 1. 1. 1. 1.]\n",
            "[0 2 4 6 8]\n"
          ]
        }
      ]
    },
    {
      "cell_type": "code",
      "source": [
        "import numpy as np\n",
        "\n",
        "obj_array = np.array([1, 2, 3, 4, 5])\n",
        "obj_array = array * 2\n",
        "print(obj_array)"
      ],
      "metadata": {
        "colab": {
          "base_uri": "https://localhost:8080/"
        },
        "id": "MhqJ95Fyzq1H",
        "outputId": "a7d45d43-3fa0-498c-f2b3-ca2dbba66642"
      },
      "execution_count": 14,
      "outputs": [
        {
          "output_type": "stream",
          "name": "stdout",
          "text": [
            "[ 4  6  8 10 12]\n"
          ]
        }
      ]
    },
    {
      "cell_type": "code",
      "source": [],
      "metadata": {
        "id": "CyGREv8h1TDq"
      },
      "execution_count": null,
      "outputs": []
    }
  ]
}